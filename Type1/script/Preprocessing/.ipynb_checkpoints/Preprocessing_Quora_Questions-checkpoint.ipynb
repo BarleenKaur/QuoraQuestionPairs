{
 "cells": [
  {
   "cell_type": "code",
   "execution_count": 1,
   "metadata": {
    "collapsed": true
   },
   "outputs": [],
   "source": [
    "import string\n",
    "import re\n",
    "import time\n",
    "import pandas as pd\n",
    "import numpy as np\n",
    "import codecs, csv, sys"
   ]
  },
  {
   "cell_type": "code",
   "execution_count": 9,
   "metadata": {},
   "outputs": [],
   "source": [
    "start_time = time.time()\n",
    "question1 = []\n",
    "question2 = []\n",
    "qid1 = []\n",
    "qid2 = []\n",
    "id_ = []\n",
    "is_duplicate = []\n",
    "f = open('/Volumes/Barly/NLP/Project/5k_testing/Type1/data/raw/test.csv','r')\n",
    "reader = csv.DictReader(f)\n",
    "for row in reader:\n",
    "    question1.append(row['question1'].lower())\n",
    "    question2.append(row['question2'].lower())\n",
    "    qid1.append( row['qid1'])\n",
    "    qid2.append( row['qid2'])\n",
    "    id_.append( row['index'])\n",
    "    is_duplicate.append( row['is_duplicate'])"
   ]
  },
  {
   "cell_type": "code",
   "execution_count": 4,
   "metadata": {
    "collapsed": true
   },
   "outputs": [],
   "source": [
    "punctuation_list = list(string.punctuation)"
   ]
  },
  {
   "cell_type": "code",
   "execution_count": 5,
   "metadata": {
    "collapsed": true
   },
   "outputs": [],
   "source": [
    "def sentences_splitted_to_words(sentence):\n",
    "    \n",
    "    sentence = re.sub(r\"[^A-Za-z0-9]\", \" \", sentence)\n",
    "    \n",
    "    sentence = ''.join(ch for ch in sentence if ch not in punctuation_list)\n",
    "    \n",
    "    return sentence"
   ]
  },
  {
   "cell_type": "code",
   "execution_count": 10,
   "metadata": {},
   "outputs": [
    {
     "name": "stdout",
     "output_type": "stream",
     "text": [
      "start-time:  1513329524.56 \n",
      "extracted_data_time:  1513329530.24 \n",
      "\n",
      "Total time:  5.68393802643\n"
     ]
    }
   ],
   "source": [
    "df_doc2vec = pd.DataFrame()\n",
    "for c_id, id1 , id2 , q1 , q2, label in zip(id_, qid1, qid2, question1, question2, is_duplicate):\n",
    "    questions = [q1, q2]\n",
    "    try:\n",
    "        cleaned_question = []\n",
    "        for question in questions:\n",
    "            cleaned_sentence = sentences_splitted_to_words(question)\n",
    "            #print \"cleaned_sentence: \", cleaned_sentence\n",
    "            cleaned_question.append(cleaned_sentence)\n",
    "            \n",
    "        df_doc2vec_temp = pd.DataFrame({'index':[c_id],'qid1': [id1], 'qid2': [id2], 'question1': [q1], 'question2': [q2],\\\n",
    "                                        'cleaned_question1': [cleaned_question[0]], 'cleaned_question2': [cleaned_question[1]],\\\n",
    "                                        'is_duplicate': [label]})\n",
    "        df_doc2vec = pd.concat([df_doc2vec, df_doc2vec_temp])\n",
    "    except:\n",
    "        print c_id\n",
    "extracted_data_time = time.time()\n",
    "\n",
    "print \"start-time: \", start_time, \"\\nextracted_data_time: \", extracted_data_time , \"\\n\\nTotal time: \",(extracted_data_time -start_time )"
   ]
  },
  {
   "cell_type": "code",
   "execution_count": 11,
   "metadata": {
    "collapsed": true
   },
   "outputs": [],
   "source": [
    "df_doc2vec.to_csv(\"/Volumes/Barly/NLP/Project/5k_testing/Type1/data/Preprocessed/preprocessed_test_data.csv\", index=False)"
   ]
  },
  {
   "cell_type": "code",
   "execution_count": null,
   "metadata": {
    "collapsed": true
   },
   "outputs": [],
   "source": []
  }
 ],
 "metadata": {
  "kernelspec": {
   "display_name": "Python 2",
   "language": "python",
   "name": "python2"
  },
  "language_info": {
   "codemirror_mode": {
    "name": "ipython",
    "version": 2
   },
   "file_extension": ".py",
   "mimetype": "text/x-python",
   "name": "python",
   "nbconvert_exporter": "python",
   "pygments_lexer": "ipython2",
   "version": "2.7.13"
  }
 },
 "nbformat": 4,
 "nbformat_minor": 2
}
